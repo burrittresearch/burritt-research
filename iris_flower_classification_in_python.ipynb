{
  "cells": [
    {
      "cell_type": "markdown",
      "metadata": {
        "id": "view-in-github",
        "colab_type": "text"
      },
      "source": [
        "<a href=\"https://colab.research.google.com/github/burrittresearch/burritt-research/blob/master/iris_flower_classification_in_python.ipynb\" target=\"_parent\"><img src=\"https://colab.research.google.com/assets/colab-badge.svg\" alt=\"Open In Colab\"/></a>"
      ]
    },
    {
      "cell_type": "markdown",
      "id": "423a848c",
      "metadata": {
        "_cell_guid": "b1076dfc-b9ad-4769-8c92-a6c4dae69d19",
        "_uuid": "8f2839f25d086af736a60e9eeb907d3b93b6e0e5",
        "papermill": {
          "duration": 0.005912,
          "end_time": "2023-01-06T18:08:55.897396",
          "exception": false,
          "start_time": "2023-01-06T18:08:55.891484",
          "status": "completed"
        },
        "tags": [],
        "id": "423a848c"
      },
      "source": [
        "# Iris Flower Classification in Pythonzzzzzzzzzzzzzzzzzzzzzz\n",
        "This notebook includes coding and notes for predicting iris flower species using random forest classification machine learning in python.\n",
        "\n",
        "Data Source: [Scikit-learn Iris Plants Dataset]('https://scikit-learn.org/stable/datasets/toy_dataset.html')"
      ]
    },
    {
      "cell_type": "markdown",
      "id": "a1c1915f",
      "metadata": {
        "execution": {
          "iopub.execute_input": "2023-01-03T21:31:26.865671Z",
          "iopub.status.busy": "2023-01-03T21:31:26.865197Z",
          "iopub.status.idle": "2023-01-03T21:31:26.889397Z",
          "shell.execute_reply": "2023-01-03T21:31:26.888388Z",
          "shell.execute_reply.started": "2023-01-03T21:31:26.865585Z"
        },
        "papermill": {
          "duration": 0.004061,
          "end_time": "2023-01-06T18:08:55.906159",
          "exception": false,
          "start_time": "2023-01-06T18:08:55.902098",
          "status": "completed"
        },
        "tags": [],
        "id": "a1c1915f"
      },
      "source": [
        "# Project Workflow\n",
        "* Define the Problem\n",
        "* Process Data\n",
        "* Model Predictions\n",
        "* Evalute the Model\n",
        "* Tune the Model\n",
        "* Plot the Results\n",
        "* Deploy the Model\n",
        "* Save Dataframe to CSV"
      ]
    },
    {
      "cell_type": "markdown",
      "source": [
        "# Define the Problem\n",
        "What species of iris are these flowers?"
      ],
      "metadata": {
        "id": "Hk8wgETAFZNz"
      },
      "id": "Hk8wgETAFZNz"
    },
    {
      "cell_type": "markdown",
      "source": [
        "# Process Data"
      ],
      "metadata": {
        "id": "15_L8YkrFkRX"
      },
      "id": "15_L8YkrFkRX"
    },
    {
      "cell_type": "code",
      "execution_count": null,
      "id": "c1c9c1ba",
      "metadata": {
        "execution": {
          "iopub.execute_input": "2023-01-06T18:08:55.918094Z",
          "iopub.status.busy": "2023-01-06T18:08:55.917016Z",
          "iopub.status.idle": "2023-01-06T18:09:12.532451Z",
          "shell.execute_reply": "2023-01-06T18:09:12.530940Z"
        },
        "papermill": {
          "duration": 16.625086,
          "end_time": "2023-01-06T18:09:12.535626",
          "exception": false,
          "start_time": "2023-01-06T18:08:55.910540",
          "status": "completed"
        },
        "tags": [],
        "id": "c1c9c1ba"
      },
      "outputs": [],
      "source": [
        "# Import libraries\n",
        "import pandas as pd\n",
        "import numpy as np\n",
        "import matplotlib.pyplot as plt\n",
        "from pathlib import Path\n",
        "from sklearn.ensemble import RandomForestClassifier\n",
        "from sklearn.linear_model import LinearRegression\n",
        "from sklearn.ensemble import RandomForestRegressor\n",
        "from sklearn.linear_model import LogisticRegression\n",
        "from sklearn.model_selection import train_test_split\n",
        "from sklearn.metrics import confusion_matrix, f1_score, accuracy_score, classification_report\n",
        "from sklearn.datasets import load_iris\n",
        "from IPython.lib.display import isfile\n",
        "import seaborn as sns\n",
        "import matplotlib"
      ]
    },
    {
      "cell_type": "code",
      "source": [
        "# Set display options\n",
        "pd.set_option('display.max_rows', 50)\n",
        "pd.set_option('display.max_columns', 50)\n",
        "pd.set_option('display.width', 500)\n",
        "pd.set_option('display.colheader_justify', 'left')\n",
        "pd.set_option('display.precision', 3)\n",
        "\n",
        "str_lb = '\\n'"
      ],
      "metadata": {
        "id": "ShtQQIKMcRvk"
      },
      "id": "ShtQQIKMcRvk",
      "execution_count": null,
      "outputs": []
    },
    {
      "cell_type": "code",
      "source": [
        "# Load data\n",
        "iris_data = load_iris()\n",
        "print(iris_data)"
      ],
      "metadata": {
        "id": "PK3oqKllEHKM",
        "colab": {
          "base_uri": "https://localhost:8080/"
        },
        "outputId": "9a1bc47a-7b49-4074-9b9e-0c7234e50885"
      },
      "id": "PK3oqKllEHKM",
      "execution_count": null,
      "outputs": [
        {
          "output_type": "stream",
          "name": "stdout",
          "text": [
            "{'data': array([[5.1, 3.5, 1.4, 0.2],\n",
            "       [4.9, 3. , 1.4, 0.2],\n",
            "       [4.7, 3.2, 1.3, 0.2],\n",
            "       [4.6, 3.1, 1.5, 0.2],\n",
            "       [5. , 3.6, 1.4, 0.2],\n",
            "       [5.4, 3.9, 1.7, 0.4],\n",
            "       [4.6, 3.4, 1.4, 0.3],\n",
            "       [5. , 3.4, 1.5, 0.2],\n",
            "       [4.4, 2.9, 1.4, 0.2],\n",
            "       [4.9, 3.1, 1.5, 0.1],\n",
            "       [5.4, 3.7, 1.5, 0.2],\n",
            "       [4.8, 3.4, 1.6, 0.2],\n",
            "       [4.8, 3. , 1.4, 0.1],\n",
            "       [4.3, 3. , 1.1, 0.1],\n",
            "       [5.8, 4. , 1.2, 0.2],\n",
            "       [5.7, 4.4, 1.5, 0.4],\n",
            "       [5.4, 3.9, 1.3, 0.4],\n",
            "       [5.1, 3.5, 1.4, 0.3],\n",
            "       [5.7, 3.8, 1.7, 0.3],\n",
            "       [5.1, 3.8, 1.5, 0.3],\n",
            "       [5.4, 3.4, 1.7, 0.2],\n",
            "       [5.1, 3.7, 1.5, 0.4],\n",
            "       [4.6, 3.6, 1. , 0.2],\n",
            "       [5.1, 3.3, 1.7, 0.5],\n",
            "       [4.8, 3.4, 1.9, 0.2],\n",
            "       [5. , 3. , 1.6, 0.2],\n",
            "       [5. , 3.4, 1.6, 0.4],\n",
            "       [5.2, 3.5, 1.5, 0.2],\n",
            "       [5.2, 3.4, 1.4, 0.2],\n",
            "       [4.7, 3.2, 1.6, 0.2],\n",
            "       [4.8, 3.1, 1.6, 0.2],\n",
            "       [5.4, 3.4, 1.5, 0.4],\n",
            "       [5.2, 4.1, 1.5, 0.1],\n",
            "       [5.5, 4.2, 1.4, 0.2],\n",
            "       [4.9, 3.1, 1.5, 0.2],\n",
            "       [5. , 3.2, 1.2, 0.2],\n",
            "       [5.5, 3.5, 1.3, 0.2],\n",
            "       [4.9, 3.6, 1.4, 0.1],\n",
            "       [4.4, 3. , 1.3, 0.2],\n",
            "       [5.1, 3.4, 1.5, 0.2],\n",
            "       [5. , 3.5, 1.3, 0.3],\n",
            "       [4.5, 2.3, 1.3, 0.3],\n",
            "       [4.4, 3.2, 1.3, 0.2],\n",
            "       [5. , 3.5, 1.6, 0.6],\n",
            "       [5.1, 3.8, 1.9, 0.4],\n",
            "       [4.8, 3. , 1.4, 0.3],\n",
            "       [5.1, 3.8, 1.6, 0.2],\n",
            "       [4.6, 3.2, 1.4, 0.2],\n",
            "       [5.3, 3.7, 1.5, 0.2],\n",
            "       [5. , 3.3, 1.4, 0.2],\n",
            "       [7. , 3.2, 4.7, 1.4],\n",
            "       [6.4, 3.2, 4.5, 1.5],\n",
            "       [6.9, 3.1, 4.9, 1.5],\n",
            "       [5.5, 2.3, 4. , 1.3],\n",
            "       [6.5, 2.8, 4.6, 1.5],\n",
            "       [5.7, 2.8, 4.5, 1.3],\n",
            "       [6.3, 3.3, 4.7, 1.6],\n",
            "       [4.9, 2.4, 3.3, 1. ],\n",
            "       [6.6, 2.9, 4.6, 1.3],\n",
            "       [5.2, 2.7, 3.9, 1.4],\n",
            "       [5. , 2. , 3.5, 1. ],\n",
            "       [5.9, 3. , 4.2, 1.5],\n",
            "       [6. , 2.2, 4. , 1. ],\n",
            "       [6.1, 2.9, 4.7, 1.4],\n",
            "       [5.6, 2.9, 3.6, 1.3],\n",
            "       [6.7, 3.1, 4.4, 1.4],\n",
            "       [5.6, 3. , 4.5, 1.5],\n",
            "       [5.8, 2.7, 4.1, 1. ],\n",
            "       [6.2, 2.2, 4.5, 1.5],\n",
            "       [5.6, 2.5, 3.9, 1.1],\n",
            "       [5.9, 3.2, 4.8, 1.8],\n",
            "       [6.1, 2.8, 4. , 1.3],\n",
            "       [6.3, 2.5, 4.9, 1.5],\n",
            "       [6.1, 2.8, 4.7, 1.2],\n",
            "       [6.4, 2.9, 4.3, 1.3],\n",
            "       [6.6, 3. , 4.4, 1.4],\n",
            "       [6.8, 2.8, 4.8, 1.4],\n",
            "       [6.7, 3. , 5. , 1.7],\n",
            "       [6. , 2.9, 4.5, 1.5],\n",
            "       [5.7, 2.6, 3.5, 1. ],\n",
            "       [5.5, 2.4, 3.8, 1.1],\n",
            "       [5.5, 2.4, 3.7, 1. ],\n",
            "       [5.8, 2.7, 3.9, 1.2],\n",
            "       [6. , 2.7, 5.1, 1.6],\n",
            "       [5.4, 3. , 4.5, 1.5],\n",
            "       [6. , 3.4, 4.5, 1.6],\n",
            "       [6.7, 3.1, 4.7, 1.5],\n",
            "       [6.3, 2.3, 4.4, 1.3],\n",
            "       [5.6, 3. , 4.1, 1.3],\n",
            "       [5.5, 2.5, 4. , 1.3],\n",
            "       [5.5, 2.6, 4.4, 1.2],\n",
            "       [6.1, 3. , 4.6, 1.4],\n",
            "       [5.8, 2.6, 4. , 1.2],\n",
            "       [5. , 2.3, 3.3, 1. ],\n",
            "       [5.6, 2.7, 4.2, 1.3],\n",
            "       [5.7, 3. , 4.2, 1.2],\n",
            "       [5.7, 2.9, 4.2, 1.3],\n",
            "       [6.2, 2.9, 4.3, 1.3],\n",
            "       [5.1, 2.5, 3. , 1.1],\n",
            "       [5.7, 2.8, 4.1, 1.3],\n",
            "       [6.3, 3.3, 6. , 2.5],\n",
            "       [5.8, 2.7, 5.1, 1.9],\n",
            "       [7.1, 3. , 5.9, 2.1],\n",
            "       [6.3, 2.9, 5.6, 1.8],\n",
            "       [6.5, 3. , 5.8, 2.2],\n",
            "       [7.6, 3. , 6.6, 2.1],\n",
            "       [4.9, 2.5, 4.5, 1.7],\n",
            "       [7.3, 2.9, 6.3, 1.8],\n",
            "       [6.7, 2.5, 5.8, 1.8],\n",
            "       [7.2, 3.6, 6.1, 2.5],\n",
            "       [6.5, 3.2, 5.1, 2. ],\n",
            "       [6.4, 2.7, 5.3, 1.9],\n",
            "       [6.8, 3. , 5.5, 2.1],\n",
            "       [5.7, 2.5, 5. , 2. ],\n",
            "       [5.8, 2.8, 5.1, 2.4],\n",
            "       [6.4, 3.2, 5.3, 2.3],\n",
            "       [6.5, 3. , 5.5, 1.8],\n",
            "       [7.7, 3.8, 6.7, 2.2],\n",
            "       [7.7, 2.6, 6.9, 2.3],\n",
            "       [6. , 2.2, 5. , 1.5],\n",
            "       [6.9, 3.2, 5.7, 2.3],\n",
            "       [5.6, 2.8, 4.9, 2. ],\n",
            "       [7.7, 2.8, 6.7, 2. ],\n",
            "       [6.3, 2.7, 4.9, 1.8],\n",
            "       [6.7, 3.3, 5.7, 2.1],\n",
            "       [7.2, 3.2, 6. , 1.8],\n",
            "       [6.2, 2.8, 4.8, 1.8],\n",
            "       [6.1, 3. , 4.9, 1.8],\n",
            "       [6.4, 2.8, 5.6, 2.1],\n",
            "       [7.2, 3. , 5.8, 1.6],\n",
            "       [7.4, 2.8, 6.1, 1.9],\n",
            "       [7.9, 3.8, 6.4, 2. ],\n",
            "       [6.4, 2.8, 5.6, 2.2],\n",
            "       [6.3, 2.8, 5.1, 1.5],\n",
            "       [6.1, 2.6, 5.6, 1.4],\n",
            "       [7.7, 3. , 6.1, 2.3],\n",
            "       [6.3, 3.4, 5.6, 2.4],\n",
            "       [6.4, 3.1, 5.5, 1.8],\n",
            "       [6. , 3. , 4.8, 1.8],\n",
            "       [6.9, 3.1, 5.4, 2.1],\n",
            "       [6.7, 3.1, 5.6, 2.4],\n",
            "       [6.9, 3.1, 5.1, 2.3],\n",
            "       [5.8, 2.7, 5.1, 1.9],\n",
            "       [6.8, 3.2, 5.9, 2.3],\n",
            "       [6.7, 3.3, 5.7, 2.5],\n",
            "       [6.7, 3. , 5.2, 2.3],\n",
            "       [6.3, 2.5, 5. , 1.9],\n",
            "       [6.5, 3. , 5.2, 2. ],\n",
            "       [6.2, 3.4, 5.4, 2.3],\n",
            "       [5.9, 3. , 5.1, 1.8]]), 'target': array([0, 0, 0, 0, 0, 0, 0, 0, 0, 0, 0, 0, 0, 0, 0, 0, 0, 0, 0, 0, 0, 0,\n",
            "       0, 0, 0, 0, 0, 0, 0, 0, 0, 0, 0, 0, 0, 0, 0, 0, 0, 0, 0, 0, 0, 0,\n",
            "       0, 0, 0, 0, 0, 0, 1, 1, 1, 1, 1, 1, 1, 1, 1, 1, 1, 1, 1, 1, 1, 1,\n",
            "       1, 1, 1, 1, 1, 1, 1, 1, 1, 1, 1, 1, 1, 1, 1, 1, 1, 1, 1, 1, 1, 1,\n",
            "       1, 1, 1, 1, 1, 1, 1, 1, 1, 1, 1, 1, 2, 2, 2, 2, 2, 2, 2, 2, 2, 2,\n",
            "       2, 2, 2, 2, 2, 2, 2, 2, 2, 2, 2, 2, 2, 2, 2, 2, 2, 2, 2, 2, 2, 2,\n",
            "       2, 2, 2, 2, 2, 2, 2, 2, 2, 2, 2, 2, 2, 2, 2, 2, 2, 2]), 'frame': None, 'target_names': array(['setosa', 'versicolor', 'virginica'], dtype='<U10'), 'DESCR': '.. _iris_dataset:\\n\\nIris plants dataset\\n--------------------\\n\\n**Data Set Characteristics:**\\n\\n    :Number of Instances: 150 (50 in each of three classes)\\n    :Number of Attributes: 4 numeric, predictive attributes and the class\\n    :Attribute Information:\\n        - sepal length in cm\\n        - sepal width in cm\\n        - petal length in cm\\n        - petal width in cm\\n        - class:\\n                - Iris-Setosa\\n                - Iris-Versicolour\\n                - Iris-Virginica\\n                \\n    :Summary Statistics:\\n\\n    ============== ==== ==== ======= ===== ====================\\n                    Min  Max   Mean    SD   Class Correlation\\n    ============== ==== ==== ======= ===== ====================\\n    sepal length:   4.3  7.9   5.84   0.83    0.7826\\n    sepal width:    2.0  4.4   3.05   0.43   -0.4194\\n    petal length:   1.0  6.9   3.76   1.76    0.9490  (high!)\\n    petal width:    0.1  2.5   1.20   0.76    0.9565  (high!)\\n    ============== ==== ==== ======= ===== ====================\\n\\n    :Missing Attribute Values: None\\n    :Class Distribution: 33.3% for each of 3 classes.\\n    :Creator: R.A. Fisher\\n    :Donor: Michael Marshall (MARSHALL%PLU@io.arc.nasa.gov)\\n    :Date: July, 1988\\n\\nThe famous Iris database, first used by Sir R.A. Fisher. The dataset is taken\\nfrom Fisher\\'s paper. Note that it\\'s the same as in R, but not as in the UCI\\nMachine Learning Repository, which has two wrong data points.\\n\\nThis is perhaps the best known database to be found in the\\npattern recognition literature.  Fisher\\'s paper is a classic in the field and\\nis referenced frequently to this day.  (See Duda & Hart, for example.)  The\\ndata set contains 3 classes of 50 instances each, where each class refers to a\\ntype of iris plant.  One class is linearly separable from the other 2; the\\nlatter are NOT linearly separable from each other.\\n\\n.. topic:: References\\n\\n   - Fisher, R.A. \"The use of multiple measurements in taxonomic problems\"\\n     Annual Eugenics, 7, Part II, 179-188 (1936); also in \"Contributions to\\n     Mathematical Statistics\" (John Wiley, NY, 1950).\\n   - Duda, R.O., & Hart, P.E. (1973) Pattern Classification and Scene Analysis.\\n     (Q327.D83) John Wiley & Sons.  ISBN 0-471-22361-1.  See page 218.\\n   - Dasarathy, B.V. (1980) \"Nosing Around the Neighborhood: A New System\\n     Structure and Classification Rule for Recognition in Partially Exposed\\n     Environments\".  IEEE Transactions on Pattern Analysis and Machine\\n     Intelligence, Vol. PAMI-2, No. 1, 67-71.\\n   - Gates, G.W. (1972) \"The Reduced Nearest Neighbor Rule\".  IEEE Transactions\\n     on Information Theory, May 1972, 431-433.\\n   - See also: 1988 MLC Proceedings, 54-64.  Cheeseman et al\"s AUTOCLASS II\\n     conceptual clustering system finds 3 classes in the data.\\n   - Many, many more ...', 'feature_names': ['sepal length (cm)', 'sepal width (cm)', 'petal length (cm)', 'petal width (cm)'], 'filename': 'iris.csv', 'data_module': 'sklearn.datasets.data'}\n"
          ]
        }
      ]
    },
    {
      "cell_type": "code",
      "execution_count": null,
      "id": "a96d6278",
      "metadata": {
        "execution": {
          "iopub.execute_input": "2023-01-06T18:09:15.579507Z",
          "iopub.status.busy": "2023-01-06T18:09:15.578209Z",
          "iopub.status.idle": "2023-01-06T18:09:15.586905Z",
          "shell.execute_reply": "2023-01-06T18:09:15.586044Z"
        },
        "papermill": {
          "duration": 0.019973,
          "end_time": "2023-01-06T18:09:15.589553",
          "exception": false,
          "start_time": "2023-01-06T18:09:15.569580",
          "status": "completed"
        },
        "tags": [],
        "id": "a96d6278",
        "colab": {
          "base_uri": "https://localhost:8080/"
        },
        "outputId": "30e99e36-fa5d-4beb-d5e3-2897f4fd31a2"
      },
      "outputs": [
        {
          "output_type": "stream",
          "name": "stdout",
          "text": [
            "[[5.1 3.5 1.4 0.2]\n",
            " [4.9 3.  1.4 0.2]\n",
            " [4.7 3.2 1.3 0.2]\n",
            " [4.6 3.1 1.5 0.2]\n",
            " [5.  3.6 1.4 0.2]\n",
            " [5.4 3.9 1.7 0.4]\n",
            " [4.6 3.4 1.4 0.3]\n",
            " [5.  3.4 1.5 0.2]\n",
            " [4.4 2.9 1.4 0.2]\n",
            " [4.9 3.1 1.5 0.1]]\n",
            "<class 'numpy.ndarray'>\n",
            "[0 0 0 0 0 0 0 0 0 0]\n",
            "<class 'numpy.ndarray'>\n",
            "['setosa' 'versicolor' 'virginica']\n",
            "<class 'numpy.ndarray'>\n",
            "['sepal length (cm)', 'sepal width (cm)', 'petal length (cm)', 'petal width (cm)']\n",
            "<class 'list'>\n"
          ]
        }
      ],
      "source": [
        "# Explore data\n",
        "print(load_iris().data[0:10])\n",
        "print(type(load_iris().data))\n",
        "\n",
        "print(load_iris().target[0:10])\n",
        "print(type(load_iris().target))\n",
        "\n",
        "print(load_iris().target_names)\n",
        "print(type(load_iris().target_names))\n",
        "\n",
        "print(load_iris().feature_names)\n",
        "print(type(load_iris().feature_names))"
      ]
    },
    {
      "cell_type": "code",
      "source": [
        "# Explore data\n",
        "print(load_iris().DESCR)\n",
        "print(iris_data.data[:10])\n",
        "print(iris_data.feature_names)\n",
        "print(iris_data.target_names)\n",
        "print(iris_data.target)"
      ],
      "metadata": {
        "colab": {
          "base_uri": "https://localhost:8080/"
        },
        "id": "PivE3dic-30_",
        "outputId": "8c0a7cc6-54aa-4d23-8a1c-105653d7813c"
      },
      "id": "PivE3dic-30_",
      "execution_count": null,
      "outputs": [
        {
          "output_type": "stream",
          "name": "stdout",
          "text": [
            ".. _iris_dataset:\n",
            "\n",
            "Iris plants dataset\n",
            "--------------------\n",
            "\n",
            "**Data Set Characteristics:**\n",
            "\n",
            "    :Number of Instances: 150 (50 in each of three classes)\n",
            "    :Number of Attributes: 4 numeric, predictive attributes and the class\n",
            "    :Attribute Information:\n",
            "        - sepal length in cm\n",
            "        - sepal width in cm\n",
            "        - petal length in cm\n",
            "        - petal width in cm\n",
            "        - class:\n",
            "                - Iris-Setosa\n",
            "                - Iris-Versicolour\n",
            "                - Iris-Virginica\n",
            "                \n",
            "    :Summary Statistics:\n",
            "\n",
            "    ============== ==== ==== ======= ===== ====================\n",
            "                    Min  Max   Mean    SD   Class Correlation\n",
            "    ============== ==== ==== ======= ===== ====================\n",
            "    sepal length:   4.3  7.9   5.84   0.83    0.7826\n",
            "    sepal width:    2.0  4.4   3.05   0.43   -0.4194\n",
            "    petal length:   1.0  6.9   3.76   1.76    0.9490  (high!)\n",
            "    petal width:    0.1  2.5   1.20   0.76    0.9565  (high!)\n",
            "    ============== ==== ==== ======= ===== ====================\n",
            "\n",
            "    :Missing Attribute Values: None\n",
            "    :Class Distribution: 33.3% for each of 3 classes.\n",
            "    :Creator: R.A. Fisher\n",
            "    :Donor: Michael Marshall (MARSHALL%PLU@io.arc.nasa.gov)\n",
            "    :Date: July, 1988\n",
            "\n",
            "The famous Iris database, first used by Sir R.A. Fisher. The dataset is taken\n",
            "from Fisher's paper. Note that it's the same as in R, but not as in the UCI\n",
            "Machine Learning Repository, which has two wrong data points.\n",
            "\n",
            "This is perhaps the best known database to be found in the\n",
            "pattern recognition literature.  Fisher's paper is a classic in the field and\n",
            "is referenced frequently to this day.  (See Duda & Hart, for example.)  The\n",
            "data set contains 3 classes of 50 instances each, where each class refers to a\n",
            "type of iris plant.  One class is linearly separable from the other 2; the\n",
            "latter are NOT linearly separable from each other.\n",
            "\n",
            ".. topic:: References\n",
            "\n",
            "   - Fisher, R.A. \"The use of multiple measurements in taxonomic problems\"\n",
            "     Annual Eugenics, 7, Part II, 179-188 (1936); also in \"Contributions to\n",
            "     Mathematical Statistics\" (John Wiley, NY, 1950).\n",
            "   - Duda, R.O., & Hart, P.E. (1973) Pattern Classification and Scene Analysis.\n",
            "     (Q327.D83) John Wiley & Sons.  ISBN 0-471-22361-1.  See page 218.\n",
            "   - Dasarathy, B.V. (1980) \"Nosing Around the Neighborhood: A New System\n",
            "     Structure and Classification Rule for Recognition in Partially Exposed\n",
            "     Environments\".  IEEE Transactions on Pattern Analysis and Machine\n",
            "     Intelligence, Vol. PAMI-2, No. 1, 67-71.\n",
            "   - Gates, G.W. (1972) \"The Reduced Nearest Neighbor Rule\".  IEEE Transactions\n",
            "     on Information Theory, May 1972, 431-433.\n",
            "   - See also: 1988 MLC Proceedings, 54-64.  Cheeseman et al\"s AUTOCLASS II\n",
            "     conceptual clustering system finds 3 classes in the data.\n",
            "   - Many, many more ...\n",
            "[[5.1 3.5 1.4 0.2]\n",
            " [4.9 3.  1.4 0.2]\n",
            " [4.7 3.2 1.3 0.2]\n",
            " [4.6 3.1 1.5 0.2]\n",
            " [5.  3.6 1.4 0.2]\n",
            " [5.4 3.9 1.7 0.4]\n",
            " [4.6 3.4 1.4 0.3]\n",
            " [5.  3.4 1.5 0.2]\n",
            " [4.4 2.9 1.4 0.2]\n",
            " [4.9 3.1 1.5 0.1]]\n",
            "['sepal length (cm)', 'sepal width (cm)', 'petal length (cm)', 'petal width (cm)']\n",
            "['setosa' 'versicolor' 'virginica']\n",
            "[0 0 0 0 0 0 0 0 0 0 0 0 0 0 0 0 0 0 0 0 0 0 0 0 0 0 0 0 0 0 0 0 0 0 0 0 0\n",
            " 0 0 0 0 0 0 0 0 0 0 0 0 0 1 1 1 1 1 1 1 1 1 1 1 1 1 1 1 1 1 1 1 1 1 1 1 1\n",
            " 1 1 1 1 1 1 1 1 1 1 1 1 1 1 1 1 1 1 1 1 1 1 1 1 1 1 2 2 2 2 2 2 2 2 2 2 2\n",
            " 2 2 2 2 2 2 2 2 2 2 2 2 2 2 2 2 2 2 2 2 2 2 2 2 2 2 2 2 2 2 2 2 2 2 2 2 2\n",
            " 2 2]\n"
          ]
        }
      ]
    },
    {
      "cell_type": "markdown",
      "source": [
        "# Model Predictions"
      ],
      "metadata": {
        "id": "da88bafa"
      },
      "id": "da88bafa"
    },
    {
      "cell_type": "code",
      "source": [
        "# Load data\n",
        "df_iris = pd.DataFrame(iris_data.data, columns=iris_data.feature_names)\n",
        "\n",
        "# Create species and target columns\n",
        "df_iris['species_target'] = iris_data.target\n",
        "df_iris['species_target_name'] = pd.Categorical.from_codes(iris_data.target, iris_data.target_names)\n",
        "print(df_iris)"
      ],
      "metadata": {
        "colab": {
          "base_uri": "https://localhost:8080/"
        },
        "id": "vvbGZgWJPSUP",
        "outputId": "83230637-2188-4a40-e74a-ddf198c1d95e"
      },
      "id": "vvbGZgWJPSUP",
      "execution_count": null,
      "outputs": [
        {
          "output_type": "stream",
          "name": "stdout",
          "text": [
            "     sepal length (cm)  sepal width (cm)  petal length (cm)  petal width (cm)  species_target species_target_name\n",
            "0    5.1                3.5               1.4                0.2               0                  setosa         \n",
            "1    4.9                3.0               1.4                0.2               0                  setosa         \n",
            "2    4.7                3.2               1.3                0.2               0                  setosa         \n",
            "3    4.6                3.1               1.5                0.2               0                  setosa         \n",
            "4    5.0                3.6               1.4                0.2               0                  setosa         \n",
            "..                 ...               ...                ...               ...             ...                 ...\n",
            "145  6.7                3.0               5.2                2.3               2               virginica         \n",
            "146  6.3                2.5               5.0                1.9               2               virginica         \n",
            "147  6.5                3.0               5.2                2.0               2               virginica         \n",
            "148  6.2                3.4               5.4                2.3               2               virginica         \n",
            "149  5.9                3.0               5.1                1.8               2               virginica         \n",
            "\n",
            "[150 rows x 6 columns]\n"
          ]
        }
      ]
    },
    {
      "cell_type": "code",
      "source": [
        "# Explore data\n",
        "sns.pairplot(df_iris)\n",
        "plt.show()"
      ],
      "metadata": {
        "colab": {
          "base_uri": "https://localhost:8080/",
          "height": 903
        },
        "id": "jfy0rArCWA76",
        "outputId": "4330fbfb-281c-4ed6-dfe9-266e7c527498"
      },
      "id": "jfy0rArCWA76",
      "execution_count": null,
      "outputs": [
        {
          "output_type": "display_data",
          "data": {
            "text/plain": [
              "<Figure size 900x900 with 30 Axes>"
            ],
            "image/png": "[encoded data removed]"
          },
          "metadata": {
            "needs_background": "light"
          }
        }
      ]
    },
    {
      "cell_type": "code",
      "source": [
        "# Create the training and test sets\n",
        "X_train, X_test, y_train, y_test = train_test_split(df_iris[iris_data.feature_names], df_iris.species_target, train_size=0.75, random_state=0)"
      ],
      "metadata": {
        "id": "i3ylBcEk43rP"
      },
      "id": "i3ylBcEk43rP",
      "execution_count": null,
      "outputs": []
    },
    {
      "cell_type": "code",
      "source": [
        "# Create the model using random forest classifier\n",
        "iris_model = RandomForestClassifier()\n",
        "\n",
        "# Train the model\n",
        "iris_model.fit(X_train, y_train)\n",
        "\n",
        "# Predict iris flowers for test set\n",
        "y_hat = iris_model.predict(X_test)"
      ],
      "metadata": {
        "id": "uaYSE2HyBMK0"
      },
      "id": "uaYSE2HyBMK0",
      "execution_count": null,
      "outputs": []
    },
    {
      "cell_type": "code",
      "source": [
        "# Explore model parameters\n",
        "\n",
        "# iris_model.fit\n",
        "print(X_train)\n",
        "print(type(X_train))\n",
        "print(X_train.shape)\n",
        "print(y_train)\n",
        "print(type(y_train))\n",
        "print(y_train.shape)\n",
        "\n",
        "# iris_model.predict\n",
        "print(y_hat)\n",
        "print(type(y_hat))\n",
        "print(y_hat.shape)\n",
        "print(X_test)\n",
        "print(type(X_test))\n",
        "print(X_test.shape)"
      ],
      "metadata": {
        "colab": {
          "base_uri": "https://localhost:8080/"
        },
        "id": "Ulx-gEY-43hQ",
        "outputId": "eb78d4e8-8626-4092-935f-f9373d7b41bb"
      },
      "id": "Ulx-gEY-43hQ",
      "execution_count": null,
      "outputs": [
        {
          "output_type": "stream",
          "name": "stdout",
          "text": [
            "     sepal length (cm)  sepal width (cm)  petal length (cm)  petal width (cm)\n",
            "61   5.9                3.0               4.2                1.5             \n",
            "92   5.8                2.6               4.0                1.2             \n",
            "112  6.8                3.0               5.5                2.1             \n",
            "2    4.7                3.2               1.3                0.2             \n",
            "141  6.9                3.1               5.1                2.3             \n",
            "..                 ...               ...                ...               ...\n",
            "9    4.9                3.1               1.5                0.1             \n",
            "103  6.3                2.9               5.6                1.8             \n",
            "67   5.8                2.7               4.1                1.0             \n",
            "117  7.7                3.8               6.7                2.2             \n",
            "47   4.6                3.2               1.4                0.2             \n",
            "\n",
            "[112 rows x 4 columns]\n",
            "<class 'pandas.core.frame.DataFrame'>\n",
            "(112, 4)\n",
            "61     1\n",
            "92     1\n",
            "112    2\n",
            "2      0\n",
            "141    2\n",
            "      ..\n",
            "9      0\n",
            "103    2\n",
            "67     1\n",
            "117    2\n",
            "47     0\n",
            "Name: species_target, Length: 112, dtype: int64\n",
            "<class 'pandas.core.series.Series'>\n",
            "(112,)\n",
            "[2 1 0 2 0 2 0 1 1 1 2 1 1 1 1 0 1 1 0 0 2 1 0 0 2 0 0 1 1 0 2 1 0 2 2 1 0\n",
            " 2]\n",
            "<class 'numpy.ndarray'>\n",
            "(38,)\n",
            "     sepal length (cm)  sepal width (cm)  petal length (cm)  petal width (cm)\n",
            "114  5.8                2.8               5.1                2.4             \n",
            "62   6.0                2.2               4.0                1.0             \n",
            "33   5.5                4.2               1.4                0.2             \n",
            "107  7.3                2.9               6.3                1.8             \n",
            "7    5.0                3.4               1.5                0.2             \n",
            "100  6.3                3.3               6.0                2.5             \n",
            "40   5.0                3.5               1.3                0.3             \n",
            "86   6.7                3.1               4.7                1.5             \n",
            "76   6.8                2.8               4.8                1.4             \n",
            "71   6.1                2.8               4.0                1.3             \n",
            "134  6.1                2.6               5.6                1.4             \n",
            "51   6.4                3.2               4.5                1.5             \n",
            "73   6.1                2.8               4.7                1.2             \n",
            "54   6.5                2.8               4.6                1.5             \n",
            "63   6.1                2.9               4.7                1.4             \n",
            "37   4.9                3.6               1.4                0.1             \n",
            "78   6.0                2.9               4.5                1.5             \n",
            "90   5.5                2.6               4.4                1.2             \n",
            "45   4.8                3.0               1.4                0.3             \n",
            "16   5.4                3.9               1.3                0.4             \n",
            "121  5.6                2.8               4.9                2.0             \n",
            "66   5.6                3.0               4.5                1.5             \n",
            "24   4.8                3.4               1.9                0.2             \n",
            "8    4.4                2.9               1.4                0.2             \n",
            "126  6.2                2.8               4.8                1.8             \n",
            "22   4.6                3.6               1.0                0.2             \n",
            "44   5.1                3.8               1.9                0.4             \n",
            "97   6.2                2.9               4.3                1.3             \n",
            "93   5.0                2.3               3.3                1.0             \n",
            "26   5.0                3.4               1.6                0.4             \n",
            "137  6.4                3.1               5.5                1.8             \n",
            "84   5.4                3.0               4.5                1.5             \n",
            "27   5.2                3.5               1.5                0.2             \n",
            "127  6.1                3.0               4.9                1.8             \n",
            "132  6.4                2.8               5.6                2.2             \n",
            "59   5.2                2.7               3.9                1.4             \n",
            "18   5.7                3.8               1.7                0.3             \n",
            "83   6.0                2.7               5.1                1.6             \n",
            "<class 'pandas.core.frame.DataFrame'>\n",
            "(38, 4)\n"
          ]
        }
      ]
    },
    {
      "cell_type": "code",
      "source": [
        "# Create new dataframe comparing predicted and actual results\n",
        "df_iris_results = X_test.copy()\n",
        "df_iris_results['species_target'] = df_iris.species_target\n",
        "df_iris_results['species_target_name'] = df_iris.species_target_name\n",
        "df_iris_results['species_prediction'] = y_hat\n",
        "df_iris_results = df_iris_results[['species_target_name', 'species_target','species_prediction']]\n",
        "print(df_iris_results)"
      ],
      "metadata": {
        "colab": {
          "base_uri": "https://localhost:8080/"
        },
        "id": "Bb9tsBmLCH9L",
        "outputId": "7b9dd326-24ae-42e2-bfb6-704c81942204"
      },
      "id": "Bb9tsBmLCH9L",
      "execution_count": null,
      "outputs": [
        {
          "output_type": "stream",
          "name": "stdout",
          "text": [
            "    species_target_name  species_target  species_prediction\n",
            "114   virginica          2               2                 \n",
            "62   versicolor          1               1                 \n",
            "33       setosa          0               0                 \n",
            "107   virginica          2               2                 \n",
            "7        setosa          0               0                 \n",
            "100   virginica          2               2                 \n",
            "40       setosa          0               0                 \n",
            "86   versicolor          1               1                 \n",
            "76   versicolor          1               1                 \n",
            "71   versicolor          1               1                 \n",
            "134   virginica          2               2                 \n",
            "51   versicolor          1               1                 \n",
            "73   versicolor          1               1                 \n",
            "54   versicolor          1               1                 \n",
            "63   versicolor          1               1                 \n",
            "37       setosa          0               0                 \n",
            "78   versicolor          1               1                 \n",
            "90   versicolor          1               1                 \n",
            "45       setosa          0               0                 \n",
            "16       setosa          0               0                 \n",
            "121   virginica          2               2                 \n",
            "66   versicolor          1               1                 \n",
            "24       setosa          0               0                 \n",
            "8        setosa          0               0                 \n",
            "126   virginica          2               2                 \n",
            "22       setosa          0               0                 \n",
            "44       setosa          0               0                 \n",
            "97   versicolor          1               1                 \n",
            "93   versicolor          1               1                 \n",
            "26       setosa          0               0                 \n",
            "137   virginica          2               2                 \n",
            "84   versicolor          1               1                 \n",
            "27       setosa          0               0                 \n",
            "127   virginica          2               2                 \n",
            "132   virginica          2               2                 \n",
            "59   versicolor          1               1                 \n",
            "18       setosa          0               0                 \n",
            "83   versicolor          1               2                 \n"
          ]
        }
      ]
    },
    {
      "cell_type": "code",
      "source": [
        "# Add column for accuracy results\n",
        "df_iris_results = df_iris_results.copy()\n",
        "df_iris_results['accuracy'] = np.where((df_iris_results.species_target == df_iris_results.species_prediction), 'accurate', 'inaccurate' )\n",
        "print(df_iris_results)"
      ],
      "metadata": {
        "colab": {
          "base_uri": "https://localhost:8080/"
        },
        "id": "WcKHkhMjc1E9",
        "outputId": "9256acfb-0b4a-4865-b5d8-ce643944daa8"
      },
      "id": "WcKHkhMjc1E9",
      "execution_count": null,
      "outputs": [
        {
          "output_type": "stream",
          "name": "stdout",
          "text": [
            "    species_target_name  species_target  species_prediction accuracy   \n",
            "114   virginica          2               2                     accurate\n",
            "62   versicolor          1               1                     accurate\n",
            "33       setosa          0               0                     accurate\n",
            "107   virginica          2               2                     accurate\n",
            "7        setosa          0               0                     accurate\n",
            "100   virginica          2               2                     accurate\n",
            "40       setosa          0               0                     accurate\n",
            "86   versicolor          1               1                     accurate\n",
            "76   versicolor          1               1                     accurate\n",
            "71   versicolor          1               1                     accurate\n",
            "134   virginica          2               2                     accurate\n",
            "51   versicolor          1               1                     accurate\n",
            "73   versicolor          1               1                     accurate\n",
            "54   versicolor          1               1                     accurate\n",
            "63   versicolor          1               1                     accurate\n",
            "37       setosa          0               0                     accurate\n",
            "78   versicolor          1               1                     accurate\n",
            "90   versicolor          1               1                     accurate\n",
            "45       setosa          0               0                     accurate\n",
            "16       setosa          0               0                     accurate\n",
            "121   virginica          2               2                     accurate\n",
            "66   versicolor          1               1                     accurate\n",
            "24       setosa          0               0                     accurate\n",
            "8        setosa          0               0                     accurate\n",
            "126   virginica          2               2                     accurate\n",
            "22       setosa          0               0                     accurate\n",
            "44       setosa          0               0                     accurate\n",
            "97   versicolor          1               1                     accurate\n",
            "93   versicolor          1               1                     accurate\n",
            "26       setosa          0               0                     accurate\n",
            "137   virginica          2               2                     accurate\n",
            "84   versicolor          1               1                     accurate\n",
            "27       setosa          0               0                     accurate\n",
            "127   virginica          2               2                     accurate\n",
            "132   virginica          2               2                     accurate\n",
            "59   versicolor          1               1                     accurate\n",
            "18       setosa          0               0                     accurate\n",
            "83   versicolor          1               2                   inaccurate\n"
          ]
        }
      ]
    },
    {
      "cell_type": "markdown",
      "source": [
        "# Evalute the Model"
      ],
      "metadata": {
        "id": "bf3496b7"
      },
      "id": "bf3496b7"
    },
    {
      "cell_type": "code",
      "source": [
        "# Create confusion matrix of results\n",
        "print(f\"Crosstab Confusion Matrix:{str_lb}{pd.crosstab(df_iris_results.species_target, df_iris_results.species_prediction, rownames=['Actual Species'], colnames=['Predicted Species'])}\")"
      ],
      "metadata": {
        "colab": {
          "base_uri": "https://localhost:8080/"
        },
        "id": "dO8QT8gkdxfi",
        "outputId": "bcea0363-5ef1-4300-ed81-0d02d672bdd0"
      },
      "id": "dO8QT8gkdxfi",
      "execution_count": null,
      "outputs": [
        {
          "output_type": "stream",
          "name": "stdout",
          "text": [
            "Crosstab Confusion Matrix:\n",
            "Predicted Species  0   1   2\n",
            "Actual Species              \n",
            "0                  13   0  0\n",
            "1                   0  15  1\n",
            "2                   0   0  9\n"
          ]
        }
      ]
    },
    {
      "cell_type": "code",
      "source": [
        "# Create classification report\n",
        "print(f'Classification Report:{str_lb}{classification_report(y_test, y_hat)}')"
      ],
      "metadata": {
        "colab": {
          "base_uri": "https://localhost:8080/"
        },
        "id": "TSYBu6oZFrEs",
        "outputId": "46a8f3a9-21ad-4d42-922c-0e6ee5c6e86e"
      },
      "id": "TSYBu6oZFrEs",
      "execution_count": null,
      "outputs": [
        {
          "output_type": "stream",
          "name": "stdout",
          "text": [
            "Classification Report:\n",
            "              precision    recall  f1-score   support\n",
            "\n",
            "           0       1.00      1.00      1.00        13\n",
            "           1       1.00      0.94      0.97        16\n",
            "           2       0.90      1.00      0.95         9\n",
            "\n",
            "    accuracy                           0.97        38\n",
            "   macro avg       0.97      0.98      0.97        38\n",
            "weighted avg       0.98      0.97      0.97        38\n",
            "\n"
          ]
        }
      ]
    },
    {
      "cell_type": "code",
      "source": [
        "# Percentage of correct predictions to total predictions\n",
        "int_accurate_prediction = len(df_iris_results[df_iris_results.accuracy=='accurate'])\n",
        "int_inaccurate_prediction = len(df_iris_results[df_iris_results.accuracy=='inaccurate'])                             \n",
        "int_total_prediction = len(df_iris_results)\n",
        "flt_accuracy_score = accuracy_score(y_test, y_hat)\n",
        "flt_f1_score = f1_score(y_test, y_hat, average='macro')\n",
        "\n",
        "print(f'Actual vs Predicted Species: {str_lb}')\n",
        "print(f'Accurate Predictions: {int_accurate_prediction}')\n",
        "print(f'Inaccurate Predictions: {int_inaccurate_prediction}')\n",
        "print(f'Total Predictions: {int_total_prediction}')\n",
        "print(f'Model Accuracy: {(int_accurate_prediction /int_total_prediction):.2f}')\n",
        "print(f'Model Accuracy Score: {flt_accuracy_score:.4f}')\n",
        "print(f'Model f1 Score: {flt_f1_score:.4f}')"
      ],
      "metadata": {
        "colab": {
          "base_uri": "https://localhost:8080/"
        },
        "id": "LdnDEOdLd9ev",
        "outputId": "ee266c75-f1a3-42ac-e762-3e311e85bb72"
      },
      "id": "LdnDEOdLd9ev",
      "execution_count": null,
      "outputs": [
        {
          "output_type": "stream",
          "name": "stdout",
          "text": [
            "Actual vs Predicted Species: \n",
            "\n",
            "Accurate Predictions: 37\n",
            "Inaccurate Predictions: 1\n",
            "Total Predictions: 38\n",
            "Model Accuracy: 0.97\n",
            "Model Accuracy Score: 0.9737\n",
            "Model f1 Score: 0.9717\n"
          ]
        }
      ]
    },
    {
      "cell_type": "markdown",
      "source": [
        "# Tune the Model"
      ],
      "metadata": {
        "id": "RO89wvidb1KU"
      },
      "id": "RO89wvidb1KU"
    },
    {
      "cell_type": "code",
      "source": [
        "# Create a function to loop through number of trees to tune the model\n",
        "lst_score = []\n",
        "lst_estimators = []\n",
        "\n",
        "# Set number of trees n_estimators to between 10 and 200\n",
        "arr_est_range = np.arange(10, 210, 10)\n",
        "\n",
        "for int_est in arr_est_range:\n",
        "  iris_model = RandomForestClassifier(n_estimators=int_est, random_state=0)\n",
        "  iris_model.fit(X_train, y_train)\n",
        "  flt_accuracy_score = accuracy_score(y_test, y_hat)\n",
        "  lst_score.append(flt_accuracy_score)\n",
        "  lst_estimators.append(int_est)"
      ],
      "metadata": {
        "id": "aiIpu38CmbRK"
      },
      "id": "aiIpu38CmbRK",
      "execution_count": null,
      "outputs": []
    },
    {
      "cell_type": "code",
      "source": [
        "# Plot the results\n",
        "fig, ax = plt.subplots(figsize=(10, 6))\n",
        "ax.plot(lst_estimators, lst_score)\n",
        "ax.set_ylim(0, 1)\n",
        "ax.set_xlabel('Number of Trees n_estimators')\n",
        "ax.set_ylabel('Score')\n",
        "ax.set_title('Iris Species Random Forest Classification Score for Number of Trees', fontsize=14)\n",
        "plt.show()"
      ],
      "metadata": {
        "id": "WocTebeEfB2j",
        "colab": {
          "base_uri": "https://localhost:8080/",
          "height": 406
        },
        "outputId": "52faec99-1701-4da9-b099-0ad1868aeded"
      },
      "id": "WocTebeEfB2j",
      "execution_count": null,
      "outputs": [
        {
          "output_type": "display_data",
          "data": {
            "text/plain": [
              "<Figure size 720x432 with 1 Axes>"
            ],
            "image/png": "[encoded data removed]"
          },
          "metadata": {
            "needs_background": "light"
          }
        }
      ]
    },
    {
      "cell_type": "markdown",
      "source": [
        "# Plot the Results"
      ],
      "metadata": {
        "id": "fTZhIlU_vOWO"
      },
      "id": "fTZhIlU_vOWO"
    },
    {
      "cell_type": "code",
      "source": [
        "# Plot confusion matrix heatmap\n",
        "fig, ax = plt.subplots(figsize=(10, 6))\n",
        "arr_conf_matrix = confusion_matrix(df_iris_results.species_target, df_iris_results.species_prediction)\n",
        "sns.heatmap(arr_conf_matrix, cmap='Greens', center=1, annot=True, fmt='.1f', linewidth=0.5)\n",
        "\n",
        "lst_x_labels = list(iris_data.target_names)\n",
        "arr_x_loc = np.arange(len(lst_x_labels))\n",
        "ax.set_xticks(arr_x_loc + 0.5)\n",
        "ax.set_xticklabels(lst_x_labels, rotation=90)\n",
        "ax.set_yticks(arr_x_loc + 0.5)\n",
        "ax.set_yticklabels(lst_x_labels, rotation=0)\n",
        "\n",
        "ax.set_xlabel('Predicted Species')\n",
        "ax.set_ylabel('Actual Species')\n",
        "ax.set_title('Iris Species Random Forest Classification Model Confusion Matrix', fontsize=14)\n",
        "plt.show()"
      ],
      "metadata": {
        "id": "seziSSi8Cx7I",
        "colab": {
          "base_uri": "https://localhost:8080/",
          "height": 444
        },
        "outputId": "6e518f30-cd5a-46c4-fa0d-bc94a65d7d9c"
      },
      "id": "seziSSi8Cx7I",
      "execution_count": null,
      "outputs": [
        {
          "output_type": "display_data",
          "data": {
            "text/plain": [
              "<Figure size 720x432 with 2 Axes>"
            ],
            "image/png": "[encoded data removed]"
          },
          "metadata": {
            "needs_background": "light"
          }
        }
      ]
    },
    {
      "cell_type": "code",
      "source": [
        "# Plot the model results\n",
        "fig, ax = plt.subplots(figsize=(10, 6))\n",
        "lst_x_labels = ['Accurate Predictions', 'Inaccurate Predictions', 'Total Predictions']\n",
        "arr_x_loc = np.arange(len(lst_x_labels))\n",
        "y = [int_accurate_prediction, int_inaccurate_prediction, int_total_prediction]\n",
        "bars = ax.bar(lst_x_labels, y)\n",
        "\n",
        "ax.set_xticks(arr_x_loc)\n",
        "ax.set_xticklabels(lst_x_labels)\n",
        "ax.set_title('Iris Species Actual vs Predicted Results', fontsize=14)\n",
        "plt.show()"
      ],
      "metadata": {
        "id": "ZN5j7lzaeJGC",
        "colab": {
          "base_uri": "https://localhost:8080/",
          "height": 391
        },
        "outputId": "a532dcf7-2199-4db3-ce88-9bc8cbf4c080"
      },
      "id": "ZN5j7lzaeJGC",
      "execution_count": null,
      "outputs": [
        {
          "output_type": "display_data",
          "data": {
            "text/plain": [
              "<Figure size 720x432 with 1 Axes>"
            ],
            "image/png": "[encoded data removed]"
          },
          "metadata": {
            "needs_background": "light"
          }
        }
      ]
    },
    {
      "cell_type": "markdown",
      "source": [
        "# Deploy\n"
      ],
      "metadata": {
        "id": "E4bx-6KnvmFG"
      },
      "id": "E4bx-6KnvmFG"
    },
    {
      "cell_type": "code",
      "source": [
        "# Deploy the model on observed iris features\n",
        "lst_observed_iris = [5.8, 2.8, 5.1, 2.4], [6.0, 2.2, 4.0, 1.0], [5.5, 4.2, 1.4, 0.2]\n",
        "df_observed_iris = pd.DataFrame(lst_observed_iris, columns=iris_data.feature_names)\n",
        "df_observed_iris['species_prediction'] = iris_model.predict(df_observed_iris)\n",
        "print(df_observed_iris)"
      ],
      "metadata": {
        "id": "7m65-Z35iTLB",
        "colab": {
          "base_uri": "https://localhost:8080/"
        },
        "outputId": "fc0eb329-dda3-4195-abeb-57cf18e4f43b"
      },
      "id": "7m65-Z35iTLB",
      "execution_count": null,
      "outputs": [
        {
          "output_type": "stream",
          "name": "stdout",
          "text": [
            "   sepal length (cm)  sepal width (cm)  petal length (cm)  petal width (cm)  species_prediction\n",
            "0  5.8                2.8               5.1                2.4               2                 \n",
            "1  6.0                2.2               4.0                1.0               1                 \n",
            "2  5.5                4.2               1.4                0.2               0                 \n"
          ]
        }
      ]
    }
  ],
  "metadata": {
    "kernelspec": {
      "display_name": "Python 3",
      "language": "python",
      "name": "python3"
    },
    "language_info": {
      "codemirror_mode": {
        "name": "ipython",
        "version": 3
      },
      "file_extension": ".py",
      "mimetype": "text/x-python",
      "name": "python",
      "nbconvert_exporter": "python",
      "pygments_lexer": "ipython3",
      "version": "3.7.12"
    },
    "papermill": {
      "default_parameters": {},
      "duration": 32.370124,
      "end_time": "2023-01-06T18:09:17.573764",
      "environment_variables": {},
      "exception": null,
      "input_path": "__notebook__.ipynb",
      "output_path": "__notebook__.ipynb",
      "parameters": {},
      "start_time": "2023-01-06T18:08:45.203640",
      "version": "2.3.4"
    },
    "colab": {
      "provenance": [],
      "toc_visible": true,
      "include_colab_link": true
    }
  },
  "nbformat": 4,
  "nbformat_minor": 5
}