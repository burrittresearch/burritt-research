{
  "cells": [
    {
      "cell_type": "markdown",
      "metadata": {
        "id": "view-in-github",
        "colab_type": "text"
      },
      "source": [
        "<a href=\"https://colab.research.google.com/github/burrittresearch/burritt-research/blob/master/burrittresearch/natural-language-processing/nlp_notes.ipynb\" target=\"_parent\"><img src=\"https://colab.research.google.com/assets/colab-badge.svg\" alt=\"Open In Colab\"/></a>"
      ]
    },
    {
      "cell_type": "markdown",
      "metadata": {
        "id": "423a848c"
      },
      "source": [
        "# NLP Notes\n",
        "\n",
        "This notebook includes coding and notes Natural Language Processing (NLP)."
      ],
      "id": "423a848c"
    },
    {
      "cell_type": "markdown",
      "metadata": {
        "id": "a1c1915f"
      },
      "source": [
        "# Project Workflow\n",
        "* Define the Problem\n",
        "* Process Data\n",
        "* NLP Notes"
      ],
      "id": "a1c1915f"
    },
    {
      "cell_type": "markdown",
      "metadata": {
        "id": "Hk8wgETAFZNz"
      },
      "source": [
        "# Define the Problem\n",
        "Create notes for NLP"
      ],
      "id": "Hk8wgETAFZNz"
    },
    {
      "cell_type": "markdown",
      "metadata": {
        "id": "15_L8YkrFkRX"
      },
      "source": [
        "# Process Data"
      ],
      "id": "15_L8YkrFkRX"
    },
    {
      "cell_type": "code",
      "execution_count": 37,
      "metadata": {
        "id": "c1c9c1ba"
      },
      "outputs": [],
      "source": [
        "# Import libraries\n",
        "import matplotlib.pyplot as plt\n",
        "import numpy as np\n",
        "import pandas as pd\n",
        "import seaborn as sns\n",
        "import spacy\n"
      ],
      "id": "c1c9c1ba"
    },
    {
      "cell_type": "code",
      "execution_count": 38,
      "metadata": {
        "id": "i0t-A_uCKwIw"
      },
      "outputs": [],
      "source": [
        "# Set display options\n",
        "pd.set_option('display.max_rows', 50)\n",
        "pd.set_option('display.max_columns', 50)\n",
        "pd.set_option('display.width', 500)\n",
        "pd.set_option('display.colheader_justify', 'left')\n",
        "pd.set_option('display.precision', 3)\n",
        "\n",
        "# Line break utility\n",
        "str_lb = '\\n \\n'"
      ],
      "id": "i0t-A_uCKwIw"
    },
    {
      "cell_type": "markdown",
      "metadata": {
        "id": "dQh5tNEMzV-h"
      },
      "source": [
        "# NLP Notes"
      ],
      "id": "dQh5tNEMzV-h"
    },
    {
      "cell_type": "code",
      "execution_count": 39,
      "metadata": {
        "colab": {
          "base_uri": "https://localhost:8080/"
        },
        "id": "BCdUHf5Huhgl",
        "outputId": "1d24fb92-e0db-4756-ce93-ed541ba11361"
      },
      "outputs": [
        {
          "output_type": "execute_result",
          "data": {
            "text/plain": [
              "<spacy.lang.en.English at 0x7dd2b322a5f0>"
            ]
          },
          "metadata": {},
          "execution_count": 39
        }
      ],
      "source": [
        "# Make language object returned by the load() function\n",
        "nlp = spacy.load('en_core_web_sm')\n",
        "nlp"
      ],
      "id": "BCdUHf5Huhgl"
    },
    {
      "cell_type": "code",
      "execution_count": 40,
      "metadata": {
        "colab": {
          "base_uri": "https://localhost:8080/"
        },
        "id": "ZQxu2CSmuhyc",
        "outputId": "6b074487-3be0-470a-e718-764a05929fe9"
      },
      "outputs": [
        {
          "output_type": "execute_result",
          "data": {
            "text/plain": [
              "spacy.lang.en.English"
            ]
          },
          "metadata": {},
          "execution_count": 40
        }
      ],
      "source": [
        "# Data type of the variable\n",
        "type(nlp)"
      ],
      "id": "ZQxu2CSmuhyc"
    },
    {
      "cell_type": "code",
      "execution_count": 41,
      "metadata": {
        "colab": {
          "base_uri": "https://localhost:8080/"
        },
        "id": "17nHfdFpvgSo",
        "outputId": "bbb53c95-8b59-4b9b-eeb3-1af4de741544"
      },
      "outputs": [
        {
          "output_type": "stream",
          "name": "stdout",
          "text": [
            "this is about spacy nlp\n",
            "<class 'str'>\n",
            "this is about spacy nlp\n",
            "<class 'spacy.tokens.doc.Doc'>\n"
          ]
        }
      ],
      "source": [
        "# Make str object about spacy\n",
        "str_about = 'this is about spacy nlp'\n",
        "print(str_about)\n",
        "print(type(str_about))\n",
        "\n",
        "# Make token object of spacy string\n",
        "token_str = nlp(str_about)\n",
        "print(token_str)\n",
        "print(type(token_str))\n"
      ],
      "id": "17nHfdFpvgSo"
    },
    {
      "cell_type": "code",
      "execution_count": 42,
      "metadata": {
        "colab": {
          "base_uri": "https://localhost:8080/"
        },
        "id": "VjpeOtTbv0aR",
        "outputId": "be129985-800b-4a36-8ac2-6d813a63f0b6"
      },
      "outputs": [
        {
          "output_type": "execute_result",
          "data": {
            "text/plain": [
              "[this, is, about, spacy, nlp]"
            ]
          },
          "metadata": {},
          "execution_count": 42
        }
      ],
      "source": [
        "# Make list of token object\n",
        "lst_token = []\n",
        "for token in token_str:\n",
        "  lst_token.append(token)\n",
        "\n",
        "lst_token"
      ],
      "id": "VjpeOtTbv0aR"
    },
    {
      "cell_type": "code",
      "execution_count": 43,
      "metadata": {
        "colab": {
          "base_uri": "https://localhost:8080/"
        },
        "id": "H7QAKpV_v0fW",
        "outputId": "66540f98-bbe9-4999-bc6d-b207d2fcb421"
      },
      "outputs": [
        {
          "output_type": "execute_result",
          "data": {
            "text/plain": [
              "[this, is, about, spacy, nlp]"
            ]
          },
          "metadata": {},
          "execution_count": 43
        }
      ],
      "source": [
        "# Using list comprehension to do the same thing\n",
        "# More pythonic than loops\n",
        "lst_token = [token for token in token_str]\n",
        "lst_token"
      ],
      "id": "H7QAKpV_v0fW"
    },
    {
      "cell_type": "code",
      "execution_count": 44,
      "metadata": {
        "colab": {
          "base_uri": "https://localhost:8080/"
        },
        "id": "LeGwogdy4uFP",
        "outputId": "bd2fa872-aa10-4fe2-d473-f37216245f60"
      },
      "outputs": [
        {
          "output_type": "stream",
          "name": "stdout",
          "text": [
            "This is sentence 1 and this is sentence 1 continuing. But now this is sentence 2.\n",
            "<class 'str'>\n",
            "This is sentence 1 and this is sentence 1 continuing. But now this is sentence 2.\n",
            "<class 'spacy.tokens.doc.Doc'>\n",
            "18\n"
          ]
        }
      ],
      "source": [
        "# Make str object of sentences\n",
        "str_sent = ('This is sentence 1'\n",
        "  ' and this is sentence 1 continuing. But'\n",
        "  ' now this is sentence 2.'\n",
        ")\n",
        "print(str_sent)\n",
        "print(type(str_sent))\n",
        "\n",
        "# Make token objects of sentences string\n",
        "token_str_sent = nlp(str_sent)\n",
        "print(token_str_sent)\n",
        "print(type(token_str_sent))\n",
        "\n",
        "# Verify length of token objects in the list\n",
        "print(len(token_str_sent))\n"
      ],
      "id": "LeGwogdy4uFP"
    },
    {
      "cell_type": "code",
      "execution_count": 45,
      "metadata": {
        "colab": {
          "base_uri": "https://localhost:8080/"
        },
        "id": "Bsj6-ypYv0ko",
        "outputId": "2f3158aa-a3a0-47c8-a6a7-f05a47c064e5"
      },
      "outputs": [
        {
          "output_type": "stream",
          "name": "stdout",
          "text": [
            "[This is sentence 1 and this is sentence 1 continuing., But now this is sentence 2.]\n",
            "<class 'list'>\n",
            "2\n"
          ]
        }
      ],
      "source": [
        "# Make list of span objects sentences using .sents property\n",
        "lst_span_str_sent = list(token_str_sent.sents)\n",
        "print(lst_span_str_sent)\n",
        "print(type(lst_span_str_sent))\n",
        "\n",
        "# Verify length of span objects in the list\n",
        "print(len(lst_span_str_sent))"
      ],
      "id": "Bsj6-ypYv0ko"
    },
    {
      "cell_type": "code",
      "execution_count": 46,
      "metadata": {
        "colab": {
          "base_uri": "https://localhost:8080/"
        },
        "id": "v3linT-UWiiu",
        "outputId": "facd49ca-5f0d-4417-8c91-cfc8566e82ed"
      },
      "outputs": [
        {
          "output_type": "stream",
          "name": "stdout",
          "text": [
            "This is sentence 1 and this is sentence 1 continuing.\n",
            "But now this is sentence 2.\n"
          ]
        }
      ],
      "source": [
        "# Print each sentence\n",
        "for sentence in lst_span_str_sent:\n",
        "  print(sentence)"
      ],
      "id": "v3linT-UWiiu"
    },
    {
      "cell_type": "code",
      "execution_count": 47,
      "metadata": {
        "colab": {
          "base_uri": "https://localhost:8080/"
        },
        "id": "Auydlsawv0q-",
        "outputId": "b48fae42-ae57-4c7c-a3ac-c98de794e8d0"
      },
      "outputs": [
        {
          "output_type": "stream",
          "name": "stdout",
          "text": [
            "This is sentence\n",
            "But now this\n"
          ]
        }
      ],
      "source": [
        "# Print first words of each sentence\n",
        "for sentence in lst_span_str_sent:\n",
        "  print(f'{sentence[:3]}')"
      ],
      "id": "Auydlsawv0q-"
    },
    {
      "cell_type": "code",
      "execution_count": 56,
      "metadata": {
        "colab": {
          "base_uri": "https://localhost:8080/",
          "height": 35
        },
        "id": "FLgU-0dv6tT3",
        "outputId": "3abc2b42-f930-4ff2-b781-bddb7129f286"
      },
      "outputs": [
        {
          "output_type": "execute_result",
          "data": {
            "text/plain": [
              "'This is sentence 1 and this is sentence 1 continuing. But now this is sentence 2.'"
            ],
            "application/vnd.google.colaboratory.intrinsic+json": {
              "type": "string"
            }
          },
          "metadata": {},
          "execution_count": 56
        }
      ],
      "source": [
        "str_sent"
      ],
      "id": "FLgU-0dv6tT3"
    },
    {
      "cell_type": "code",
      "execution_count": 60,
      "metadata": {
        "id": "9uey_qv_WkA5",
        "colab": {
          "base_uri": "https://localhost:8080/"
        },
        "outputId": "7faaed6b-e764-4c56-fae3-9f80c9a8349f"
      },
      "outputs": [
        {
          "output_type": "stream",
          "name": "stdout",
          "text": [
            "this 0\n",
            "is 5\n",
            "about 8\n",
            "spacy 14\n",
            "nlp 20\n",
            "This 0\n",
            "is 5\n",
            "sentence 8\n",
            "1 17\n",
            "and 19\n",
            "this 23\n",
            "is 28\n",
            "sentence 31\n",
            "1 40\n",
            "continuing 42\n",
            ". 52\n",
            "But 54\n",
            "now 58\n",
            "this 62\n",
            "is 67\n",
            "sentence 70\n",
            "2 79\n",
            ". 80\n"
          ]
        }
      ],
      "source": [
        "# Find out more information about the token list\n",
        "for token in token_str:\n",
        "  print(token, token.idx)\n",
        "\n",
        "# Find out more information about the span list\n",
        "for span in token_str_sent:\n",
        "  print(span, span.idx)\n"
      ],
      "id": "9uey_qv_WkA5"
    },
    {
      "cell_type": "code",
      "execution_count": 64,
      "metadata": {
        "id": "eUmmH1iDWkIJ",
        "colab": {
          "base_uri": "https://localhost:8080/"
        },
        "outputId": "9f373daf-857d-49be-9f2f-0611c3b5dc3a"
      },
      "outputs": [
        {
          "output_type": "stream",
          "name": "stdout",
          "text": [
            "0\n",
            "5\n",
            "8\n",
            "14\n",
            "20\n"
          ]
        },
        {
          "output_type": "execute_result",
          "data": {
            "text/plain": [
              "[None, None, None, None, None]"
            ]
          },
          "metadata": {},
          "execution_count": 64
        }
      ],
      "source": [],
      "id": "eUmmH1iDWkIJ"
    },
    {
      "cell_type": "code",
      "execution_count": 48,
      "metadata": {
        "colab": {
          "base_uri": "https://localhost:8080/"
        },
        "id": "cmd_reyxVPWh",
        "outputId": "63d3d589-d8d6-4c6d-a31b-68ccc91ea5a7"
      },
      "outputs": [
        {
          "output_type": "execute_result",
          "data": {
            "text/plain": [
              "[1, 2, 3, 4]"
            ]
          },
          "metadata": {},
          "execution_count": 48
        }
      ],
      "source": [
        "lst = [1, 2, 3, 4]\n",
        "lst"
      ],
      "id": "cmd_reyxVPWh"
    },
    {
      "cell_type": "code",
      "execution_count": 49,
      "metadata": {
        "colab": {
          "base_uri": "https://localhost:8080/"
        },
        "id": "SXbBNzGVVb2a",
        "outputId": "8283d051-312e-4af3-c681-2cec333276da"
      },
      "outputs": [
        {
          "output_type": "execute_result",
          "data": {
            "text/plain": [
              "2"
            ]
          },
          "metadata": {},
          "execution_count": 49
        }
      ],
      "source": [
        "lst[1]"
      ],
      "id": "SXbBNzGVVb2a"
    },
    {
      "cell_type": "code",
      "execution_count": 50,
      "metadata": {
        "colab": {
          "base_uri": "https://localhost:8080/"
        },
        "id": "s9Q-i-feVdUB",
        "outputId": "0b351e75-df7f-4f2c-a100-cd86533c1074"
      },
      "outputs": [
        {
          "output_type": "execute_result",
          "data": {
            "text/plain": [
              "1"
            ]
          },
          "metadata": {},
          "execution_count": 50
        }
      ],
      "source": [
        "lst[0]"
      ],
      "id": "s9Q-i-feVdUB"
    },
    {
      "cell_type": "code",
      "execution_count": 51,
      "metadata": {
        "colab": {
          "base_uri": "https://localhost:8080/"
        },
        "id": "rmYFEYHfVfAc",
        "outputId": "8ed10fae-03b7-4977-cad3-056728843637"
      },
      "outputs": [
        {
          "output_type": "execute_result",
          "data": {
            "text/plain": [
              "[2, 3, 4]"
            ]
          },
          "metadata": {},
          "execution_count": 51
        }
      ],
      "source": [
        "lst[1:]"
      ],
      "id": "rmYFEYHfVfAc"
    },
    {
      "cell_type": "code",
      "execution_count": 52,
      "metadata": {
        "colab": {
          "base_uri": "https://localhost:8080/"
        },
        "id": "SEEzMxXEVhm7",
        "outputId": "1beb1dca-f679-45ef-d7d0-d6ae8097df4d"
      },
      "outputs": [
        {
          "output_type": "execute_result",
          "data": {
            "text/plain": [
              "[3, 4]"
            ]
          },
          "metadata": {},
          "execution_count": 52
        }
      ],
      "source": [
        "lst[2:]"
      ],
      "id": "SEEzMxXEVhm7"
    },
    {
      "cell_type": "code",
      "execution_count": 53,
      "metadata": {
        "colab": {
          "base_uri": "https://localhost:8080/"
        },
        "id": "ccNwEkzxVlwD",
        "outputId": "5c8355c1-c95a-428a-e21e-3c9963d5755d"
      },
      "outputs": [
        {
          "output_type": "execute_result",
          "data": {
            "text/plain": [
              "[1, 2, 3, 4]"
            ]
          },
          "metadata": {},
          "execution_count": 53
        }
      ],
      "source": [
        "lst[0:]"
      ],
      "id": "ccNwEkzxVlwD"
    },
    {
      "cell_type": "code",
      "execution_count": 54,
      "metadata": {
        "colab": {
          "base_uri": "https://localhost:8080/"
        },
        "id": "xq9vbTEUVoZN",
        "outputId": "fccc1b73-fc0a-4ff9-db28-802802ad4bd1"
      },
      "outputs": [
        {
          "output_type": "execute_result",
          "data": {
            "text/plain": [
              "[1, 2, 3, 4]"
            ]
          },
          "metadata": {},
          "execution_count": 54
        }
      ],
      "source": [
        "lst"
      ],
      "id": "xq9vbTEUVoZN"
    },
    {
      "cell_type": "code",
      "execution_count": 54,
      "metadata": {
        "id": "NpeJsj8KVqcR"
      },
      "outputs": [],
      "source": [],
      "id": "NpeJsj8KVqcR"
    }
  ],
  "metadata": {
    "colab": {
      "provenance": [],
      "toc_visible": true,
      "include_colab_link": true
    },
    "kernelspec": {
      "display_name": "Python 3",
      "language": "python",
      "name": "python3"
    },
    "language_info": {
      "codemirror_mode": {
        "name": "ipython",
        "version": 3
      },
      "file_extension": ".py",
      "mimetype": "text/x-python",
      "name": "python",
      "nbconvert_exporter": "python",
      "pygments_lexer": "ipython3",
      "version": "3.7.12"
    },
    "papermill": {
      "default_parameters": {},
      "duration": 32.370124,
      "end_time": "2023-01-06T18:09:17.573764",
      "environment_variables": {},
      "exception": null,
      "input_path": "__notebook__.ipynb",
      "output_path": "__notebook__.ipynb",
      "parameters": {},
      "start_time": "2023-01-06T18:08:45.203640",
      "version": "2.3.4"
    }
  },
  "nbformat": 4,
  "nbformat_minor": 5
}